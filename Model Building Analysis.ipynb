{
 "cells": [
  {
   "cell_type": "markdown",
   "id": "5e680fab",
   "metadata": {},
   "source": [
    "### Importing libraries"
   ]
  },
  {
   "cell_type": "code",
   "execution_count": 48,
   "id": "3440580e",
   "metadata": {},
   "outputs": [],
   "source": [
    "import pandas as pd\n",
    "import warnings\n",
    "from pickle import dump\n",
    "warnings.filterwarnings('ignore')\n",
    "from sklearn.linear_model import LogisticRegression\n",
    "from  sklearn.feature_extraction.text import CountVectorizer,TfidfVectorizer\n",
    "from sklearn.model_selection import train_test_split,KFold,GridSearchCV\n",
    "from sklearn.tree import DecisionTreeClassifier\n",
    "from sklearn.ensemble import RandomForestClassifier,AdaBoostClassifier\n",
    "from sklearn.svm import SVC\n",
    "from sklearn.neighbors import KNeighborsClassifier\n",
    "from sklearn.naive_bayes import MultinomialNB\n",
    "from sklearn.metrics import accuracy_score ,classification_report,confusion_matrix"
   ]
  },
  {
   "cell_type": "markdown",
   "id": "5744c988",
   "metadata": {},
   "source": [
    "### Loading the data"
   ]
  },
  {
   "cell_type": "code",
   "execution_count": 2,
   "id": "2ed4535c",
   "metadata": {},
   "outputs": [
    {
     "data": {
      "text/html": [
       "<div>\n",
       "<style scoped>\n",
       "    .dataframe tbody tr th:only-of-type {\n",
       "        vertical-align: middle;\n",
       "    }\n",
       "\n",
       "    .dataframe tbody tr th {\n",
       "        vertical-align: top;\n",
       "    }\n",
       "\n",
       "    .dataframe thead th {\n",
       "        text-align: right;\n",
       "    }\n",
       "</style>\n",
       "<table border=\"1\" class=\"dataframe\">\n",
       "  <thead>\n",
       "    <tr style=\"text-align: right;\">\n",
       "      <th></th>\n",
       "      <th>Review</th>\n",
       "      <th>Rating</th>\n",
       "      <th>rating_analysis</th>\n",
       "      <th>clean_review</th>\n",
       "      <th>Lemmitize_review</th>\n",
       "      <th>subjectivity</th>\n",
       "      <th>polarity</th>\n",
       "      <th>sentiment_polarity</th>\n",
       "      <th>no_of_char</th>\n",
       "      <th>no_of_words</th>\n",
       "    </tr>\n",
       "  </thead>\n",
       "  <tbody>\n",
       "    <tr>\n",
       "      <th>0</th>\n",
       "      <td>nice hotel expensive parking got good deal sta...</td>\n",
       "      <td>4</td>\n",
       "      <td>Positive</td>\n",
       "      <td>nice hotel expensive parking got good deal sta...</td>\n",
       "      <td>nice hotel expensive parking get good deal sta...</td>\n",
       "      <td>0.678095</td>\n",
       "      <td>0.198804</td>\n",
       "      <td>Positive</td>\n",
       "      <td>521</td>\n",
       "      <td>80</td>\n",
       "    </tr>\n",
       "    <tr>\n",
       "      <th>1</th>\n",
       "      <td>ok nothing special charge diamond member hilto...</td>\n",
       "      <td>2</td>\n",
       "      <td>Negative</td>\n",
       "      <td>ok nothing special charge diamond member hilto...</td>\n",
       "      <td>ok nothing special charge diamond member hilto...</td>\n",
       "      <td>0.539858</td>\n",
       "      <td>0.248550</td>\n",
       "      <td>Positive</td>\n",
       "      <td>1521</td>\n",
       "      <td>228</td>\n",
       "    </tr>\n",
       "    <tr>\n",
       "      <th>2</th>\n",
       "      <td>nice rooms not 4* experience hotel monaco seat...</td>\n",
       "      <td>3</td>\n",
       "      <td>Neutral</td>\n",
       "      <td>nice rooms experience hotel monaco seattle goo...</td>\n",
       "      <td>nice room experience hotel monaco seattle good...</td>\n",
       "      <td>0.591954</td>\n",
       "      <td>0.321429</td>\n",
       "      <td>Positive</td>\n",
       "      <td>1257</td>\n",
       "      <td>189</td>\n",
       "    </tr>\n",
       "    <tr>\n",
       "      <th>3</th>\n",
       "      <td>unique, great stay, wonderful time hotel monac...</td>\n",
       "      <td>5</td>\n",
       "      <td>Positive</td>\n",
       "      <td>unique great stay wonderful time hotel monaco ...</td>\n",
       "      <td>unique great stay wonderful time hotel monaco ...</td>\n",
       "      <td>0.691228</td>\n",
       "      <td>0.504825</td>\n",
       "      <td>Positive</td>\n",
       "      <td>538</td>\n",
       "      <td>83</td>\n",
       "    </tr>\n",
       "    <tr>\n",
       "      <th>4</th>\n",
       "      <td>great stay great stay, went seahawk game aweso...</td>\n",
       "      <td>5</td>\n",
       "      <td>Positive</td>\n",
       "      <td>great stay great stay went seahawk game awesom...</td>\n",
       "      <td>great stay great stay go seahawk game awesome ...</td>\n",
       "      <td>0.637088</td>\n",
       "      <td>0.467308</td>\n",
       "      <td>Positive</td>\n",
       "      <td>1091</td>\n",
       "      <td>172</td>\n",
       "    </tr>\n",
       "  </tbody>\n",
       "</table>\n",
       "</div>"
      ],
      "text/plain": [
       "                                              Review  Rating rating_analysis  \\\n",
       "0  nice hotel expensive parking got good deal sta...       4        Positive   \n",
       "1  ok nothing special charge diamond member hilto...       2        Negative   \n",
       "2  nice rooms not 4* experience hotel monaco seat...       3         Neutral   \n",
       "3  unique, great stay, wonderful time hotel monac...       5        Positive   \n",
       "4  great stay great stay, went seahawk game aweso...       5        Positive   \n",
       "\n",
       "                                        clean_review  \\\n",
       "0  nice hotel expensive parking got good deal sta...   \n",
       "1  ok nothing special charge diamond member hilto...   \n",
       "2  nice rooms experience hotel monaco seattle goo...   \n",
       "3  unique great stay wonderful time hotel monaco ...   \n",
       "4  great stay great stay went seahawk game awesom...   \n",
       "\n",
       "                                    Lemmitize_review  subjectivity  polarity  \\\n",
       "0  nice hotel expensive parking get good deal sta...      0.678095  0.198804   \n",
       "1  ok nothing special charge diamond member hilto...      0.539858  0.248550   \n",
       "2  nice room experience hotel monaco seattle good...      0.591954  0.321429   \n",
       "3  unique great stay wonderful time hotel monaco ...      0.691228  0.504825   \n",
       "4  great stay great stay go seahawk game awesome ...      0.637088  0.467308   \n",
       "\n",
       "  sentiment_polarity  no_of_char  no_of_words  \n",
       "0           Positive         521           80  \n",
       "1           Positive        1521          228  \n",
       "2           Positive        1257          189  \n",
       "3           Positive         538           83  \n",
       "4           Positive        1091          172  "
      ]
     },
     "execution_count": 2,
     "metadata": {},
     "output_type": "execute_result"
    }
   ],
   "source": [
    "text=pd.read_csv('text.csv',index_col=[0])\n",
    "text.head()"
   ]
  },
  {
   "cell_type": "markdown",
   "id": "b9f8e8db",
   "metadata": {},
   "source": [
    "## Tf-ID Vectorizor"
   ]
  },
  {
   "cell_type": "code",
   "execution_count": 3,
   "id": "78c9d1b1",
   "metadata": {},
   "outputs": [],
   "source": [
    "tf=TfidfVectorizer()"
   ]
  },
  {
   "cell_type": "code",
   "execution_count": 4,
   "id": "d18c79d5",
   "metadata": {},
   "outputs": [],
   "source": [
    "x_train_df=tf.fit(text['clean_review'])"
   ]
  },
  {
   "cell_type": "code",
   "execution_count": 5,
   "id": "42bcdd82",
   "metadata": {},
   "outputs": [],
   "source": [
    "x_train=x_train_df.transform(text['clean_review'])"
   ]
  },
  {
   "cell_type": "code",
   "execution_count": 6,
   "id": "48f8f2fb",
   "metadata": {},
   "outputs": [],
   "source": [
    "X_train,X_test,y_train,y_test=train_test_split(x_train,text['sentiment_polarity'],random_state=30,test_size=0.3,shuffle=True)"
   ]
  },
  {
   "cell_type": "code",
   "execution_count": 7,
   "id": "ab41273a",
   "metadata": {},
   "outputs": [
    {
     "data": {
      "text/plain": [
       "((14343, 75052), (6148, 75052))"
      ]
     },
     "execution_count": 7,
     "metadata": {},
     "output_type": "execute_result"
    }
   ],
   "source": [
    "X_train.shape,X_test.shape"
   ]
  },
  {
   "cell_type": "code",
   "execution_count": 8,
   "id": "6a2baf4e",
   "metadata": {},
   "outputs": [
    {
     "data": {
      "text/plain": [
       "((14343,), (6148,))"
      ]
     },
     "execution_count": 8,
     "metadata": {},
     "output_type": "execute_result"
    }
   ],
   "source": [
    "y_train.shape,y_test.shape"
   ]
  },
  {
   "cell_type": "code",
   "execution_count": 9,
   "id": "5c12bfb4",
   "metadata": {},
   "outputs": [],
   "source": [
    "# defined a function for accuracy\n",
    "def Accuracy(y_train,y_train_pred,y_test,y_test_pred):\n",
    "    print('Train Accuracy\\n')\n",
    "    print(classification_report(y_train,y_train_pred))\n",
    "    print('\\n',confusion_matrix(y_train,y_train_pred))\n",
    "    print('\\n',accuracy_score(y_train,y_train_pred))\n",
    "    print('*'*100)\n",
    "    print('Test Accuracy\\n')\n",
    "    print(classification_report(y_test,y_test_pred))\n",
    "    print('\\n',confusion_matrix(y_test,y_test_pred))\n",
    "    print('\\n',accuracy_score(y_test,y_test_pred)) "
   ]
  },
  {
   "cell_type": "markdown",
   "id": "64e44efd",
   "metadata": {},
   "source": [
    "## Model Building "
   ]
  },
  {
   "cell_type": "markdown",
   "id": "0584b5f2",
   "metadata": {},
   "source": [
    "## Decsison tree classifier"
   ]
  },
  {
   "cell_type": "code",
   "execution_count": 10,
   "id": "3cc4b625",
   "metadata": {},
   "outputs": [],
   "source": [
    "model_descision=DecisionTreeClassifier(random_state=0)"
   ]
  },
  {
   "cell_type": "code",
   "execution_count": 11,
   "id": "561ec8ef",
   "metadata": {},
   "outputs": [
    {
     "data": {
      "text/plain": [
       "DecisionTreeClassifier(random_state=0)"
      ]
     },
     "execution_count": 11,
     "metadata": {},
     "output_type": "execute_result"
    }
   ],
   "source": [
    "model_descision.fit(X_train,y_train)"
   ]
  },
  {
   "cell_type": "code",
   "execution_count": 12,
   "id": "28de2cf6",
   "metadata": {},
   "outputs": [],
   "source": [
    "train_pred=model_descision.predict(X_train)\n",
    "test_pred=model_descision.predict(X_test)"
   ]
  },
  {
   "cell_type": "code",
   "execution_count": 13,
   "id": "cf05f212",
   "metadata": {},
   "outputs": [
    {
     "name": "stdout",
     "output_type": "stream",
     "text": [
      "Train Accuracy\n",
      "\n",
      "              precision    recall  f1-score   support\n",
      "\n",
      "    Negative       1.00      1.00      1.00       831\n",
      "     Neutral       1.00      1.00      1.00        16\n",
      "    Positive       1.00      1.00      1.00     13496\n",
      "\n",
      "    accuracy                           1.00     14343\n",
      "   macro avg       1.00      1.00      1.00     14343\n",
      "weighted avg       1.00      1.00      1.00     14343\n",
      "\n",
      "\n",
      " [[  831     0     0]\n",
      " [    0    16     0]\n",
      " [    0     0 13496]]\n",
      "\n",
      " 1.0\n",
      "****************************************************************************************************\n",
      "Test Accuracy\n",
      "\n",
      "              precision    recall  f1-score   support\n",
      "\n",
      "    Negative       0.45      0.43      0.44       318\n",
      "     Neutral       0.00      0.00      0.00         3\n",
      "    Positive       0.97      0.97      0.97      5827\n",
      "\n",
      "    accuracy                           0.94      6148\n",
      "   macro avg       0.47      0.47      0.47      6148\n",
      "weighted avg       0.94      0.94      0.94      6148\n",
      "\n",
      "\n",
      " [[ 138    0  180]\n",
      " [   0    0    3]\n",
      " [ 171   10 5646]]\n",
      "\n",
      " 0.940793754066363\n"
     ]
    }
   ],
   "source": [
    "descison_tree=Accuracy(train_pred,y_train,test_pred,y_test)\n",
    "descison_tree"
   ]
  },
  {
   "cell_type": "markdown",
   "id": "75b3b298",
   "metadata": {},
   "source": [
    "## Logistic Model"
   ]
  },
  {
   "cell_type": "code",
   "execution_count": 14,
   "id": "c3a6075a",
   "metadata": {},
   "outputs": [],
   "source": [
    "log=LogisticRegression()"
   ]
  },
  {
   "cell_type": "code",
   "execution_count": 15,
   "id": "1b04d09c",
   "metadata": {},
   "outputs": [
    {
     "data": {
      "text/plain": [
       "LogisticRegression()"
      ]
     },
     "execution_count": 15,
     "metadata": {},
     "output_type": "execute_result"
    }
   ],
   "source": [
    "log.fit(X_train,y_train)"
   ]
  },
  {
   "cell_type": "code",
   "execution_count": 16,
   "id": "a947ca53",
   "metadata": {},
   "outputs": [],
   "source": [
    "log_train=log.predict(X_train)\n",
    "log_test=log.predict(X_test)"
   ]
  },
  {
   "cell_type": "code",
   "execution_count": 17,
   "id": "0e6a47bc",
   "metadata": {},
   "outputs": [
    {
     "name": "stdout",
     "output_type": "stream",
     "text": [
      "Train Accuracy\n",
      "\n",
      "              precision    recall  f1-score   support\n",
      "\n",
      "    Negative       0.59      1.00      0.74       492\n",
      "     Neutral       0.00      0.00      0.00         0\n",
      "    Positive       1.00      0.97      0.99     13851\n",
      "\n",
      "    accuracy                           0.97     14343\n",
      "   macro avg       0.53      0.66      0.58     14343\n",
      "weighted avg       0.99      0.97      0.98     14343\n",
      "\n",
      "\n",
      " [[  490     0     2]\n",
      " [    0     0     0]\n",
      " [  341    16 13494]]\n",
      "\n",
      " 0.9749703688210277\n",
      "****************************************************************************************************\n",
      "Test Accuracy\n",
      "\n",
      "              precision    recall  f1-score   support\n",
      "\n",
      "    Negative       0.34      0.97      0.50       108\n",
      "     Neutral       0.00      0.00      0.00         0\n",
      "    Positive       1.00      0.96      0.98      6040\n",
      "\n",
      "    accuracy                           0.96      6148\n",
      "   macro avg       0.45      0.65      0.50      6148\n",
      "weighted avg       0.99      0.96      0.97      6148\n",
      "\n",
      "\n",
      " [[ 105    0    3]\n",
      " [   0    0    0]\n",
      " [ 204   10 5826]]\n",
      "\n",
      " 0.9647039687703318\n"
     ]
    }
   ],
   "source": [
    "logistic_model=Accuracy(log_train,y_train,log_test,y_test)\n",
    "logistic_model"
   ]
  },
  {
   "cell_type": "markdown",
   "id": "a6dbe247",
   "metadata": {},
   "source": [
    "## K-Nearest Algorithm"
   ]
  },
  {
   "cell_type": "code",
   "execution_count": 18,
   "id": "841ae0cb",
   "metadata": {},
   "outputs": [],
   "source": [
    "k=KNeighborsClassifier(n_neighbors=35)"
   ]
  },
  {
   "cell_type": "code",
   "execution_count": 19,
   "id": "0567e93e",
   "metadata": {},
   "outputs": [
    {
     "data": {
      "text/plain": [
       "KNeighborsClassifier(n_neighbors=35)"
      ]
     },
     "execution_count": 19,
     "metadata": {},
     "output_type": "execute_result"
    }
   ],
   "source": [
    "k.fit(X_train,y_train)"
   ]
  },
  {
   "cell_type": "code",
   "execution_count": 20,
   "id": "2c24449e",
   "metadata": {},
   "outputs": [],
   "source": [
    "ktrain_pred=k.predict(X_train)\n",
    "ktest_pred=k.predict(X_test)"
   ]
  },
  {
   "cell_type": "code",
   "execution_count": 21,
   "id": "3bfcffb4",
   "metadata": {},
   "outputs": [
    {
     "name": "stdout",
     "output_type": "stream",
     "text": [
      "Train Accuracy\n",
      "\n",
      "              precision    recall  f1-score   support\n",
      "\n",
      "    Negative       0.05      0.95      0.09        40\n",
      "     Neutral       0.00      0.00      0.00         0\n",
      "    Positive       1.00      0.94      0.97     14303\n",
      "\n",
      "    accuracy                           0.94     14343\n",
      "   macro avg       0.35      0.63      0.35     14343\n",
      "weighted avg       1.00      0.94      0.97     14343\n",
      "\n",
      "\n",
      " [[   38     0     2]\n",
      " [    0     0     0]\n",
      " [  793    16 13494]]\n",
      "\n",
      " 0.9434567384787004\n",
      "****************************************************************************************************\n",
      "Test Accuracy\n",
      "\n",
      "              precision    recall  f1-score   support\n",
      "\n",
      "    Negative       0.06      0.94      0.10        18\n",
      "     Neutral       0.00      0.00      0.00         0\n",
      "    Positive       1.00      0.95      0.97      6130\n",
      "\n",
      "    accuracy                           0.95      6148\n",
      "   macro avg       0.35      0.63      0.36      6148\n",
      "weighted avg       1.00      0.95      0.97      6148\n",
      "\n",
      "\n",
      " [[  17    0    1]\n",
      " [   0    0    0]\n",
      " [ 292   10 5828]]\n",
      "\n",
      " 0.9507156798959011\n"
     ]
    }
   ],
   "source": [
    "k_near=Accuracy(ktrain_pred,y_train,ktest_pred,y_test)\n",
    "k_near"
   ]
  },
  {
   "cell_type": "markdown",
   "id": "eb457411",
   "metadata": {},
   "source": [
    "## Random Forest"
   ]
  },
  {
   "cell_type": "code",
   "execution_count": 22,
   "id": "70b8eb6d",
   "metadata": {},
   "outputs": [],
   "source": [
    "random=RandomForestClassifier(max_features=400)"
   ]
  },
  {
   "cell_type": "code",
   "execution_count": 23,
   "id": "5be55e0b",
   "metadata": {},
   "outputs": [
    {
     "data": {
      "text/plain": [
       "RandomForestClassifier(max_features=400)"
      ]
     },
     "execution_count": 23,
     "metadata": {},
     "output_type": "execute_result"
    }
   ],
   "source": [
    "random.fit(X_train,y_train)"
   ]
  },
  {
   "cell_type": "code",
   "execution_count": 24,
   "id": "486996a1",
   "metadata": {},
   "outputs": [],
   "source": [
    "rf_train=random.predict(X_train)\n",
    "rf_test=random.predict(X_test)"
   ]
  },
  {
   "cell_type": "code",
   "execution_count": 25,
   "id": "aca85946",
   "metadata": {},
   "outputs": [
    {
     "name": "stdout",
     "output_type": "stream",
     "text": [
      "Train Accuracy\n",
      "\n",
      "              precision    recall  f1-score   support\n",
      "\n",
      "    Negative       1.00      1.00      1.00       831\n",
      "     Neutral       1.00      1.00      1.00        16\n",
      "    Positive       1.00      1.00      1.00     13496\n",
      "\n",
      "    accuracy                           1.00     14343\n",
      "   macro avg       1.00      1.00      1.00     14343\n",
      "weighted avg       1.00      1.00      1.00     14343\n",
      "\n",
      "\n",
      " [[  831     0     0]\n",
      " [    0    16     0]\n",
      " [    0     0 13496]]\n",
      "\n",
      " 1.0\n",
      "****************************************************************************************************\n",
      "Test Accuracy\n",
      "\n",
      "              precision    recall  f1-score   support\n",
      "\n",
      "    Negative       0.06      0.91      0.12        22\n",
      "     Neutral       0.00      0.00      0.00         0\n",
      "    Positive       1.00      0.95      0.97      6126\n",
      "\n",
      "    accuracy                           0.95      6148\n",
      "   macro avg       0.35      0.62      0.37      6148\n",
      "weighted avg       1.00      0.95      0.97      6148\n",
      "\n",
      "\n",
      " [[  20    0    2]\n",
      " [   0    0    0]\n",
      " [ 289   10 5827]]\n",
      "\n",
      " 0.9510409889394925\n"
     ]
    }
   ],
   "source": [
    "random_forest=Accuracy(rf_train,y_train,rf_test,y_test)\n",
    "random_forest"
   ]
  },
  {
   "cell_type": "markdown",
   "id": "b0872538",
   "metadata": {},
   "source": [
    "## SVM (Support Vector Machine)"
   ]
  },
  {
   "cell_type": "code",
   "execution_count": 26,
   "id": "2542b4af",
   "metadata": {},
   "outputs": [],
   "source": [
    "svc=SVC()"
   ]
  },
  {
   "cell_type": "code",
   "execution_count": 27,
   "id": "995067bd",
   "metadata": {},
   "outputs": [
    {
     "data": {
      "text/plain": [
       "SVC()"
      ]
     },
     "execution_count": 27,
     "metadata": {},
     "output_type": "execute_result"
    }
   ],
   "source": [
    "svc.fit(X_train,y_train)"
   ]
  },
  {
   "cell_type": "code",
   "execution_count": 28,
   "id": "f912d216",
   "metadata": {},
   "outputs": [],
   "source": [
    "svctrain=svc.predict(X_train)\n",
    "svctest=svc.predict(X_test)"
   ]
  },
  {
   "cell_type": "code",
   "execution_count": 29,
   "id": "1ba468ab",
   "metadata": {},
   "outputs": [
    {
     "name": "stdout",
     "output_type": "stream",
     "text": [
      "Train Accuracy\n",
      "\n",
      "              precision    recall  f1-score   support\n",
      "\n",
      "    Negative       0.96      1.00      0.98       799\n",
      "     Neutral       0.00      0.00      0.00         0\n",
      "    Positive       1.00      1.00      1.00     13544\n",
      "\n",
      "    accuracy                           1.00     14343\n",
      "   macro avg       0.65      0.67      0.66     14343\n",
      "weighted avg       1.00      1.00      1.00     14343\n",
      "\n",
      "\n",
      " [[  799     0     0]\n",
      " [    0     0     0]\n",
      " [   32    16 13496]]\n",
      "\n",
      " 0.9966534197866556\n",
      "****************************************************************************************************\n",
      "Test Accuracy\n",
      "\n",
      "              precision    recall  f1-score   support\n",
      "\n",
      "    Negative       0.22      0.99      0.36        69\n",
      "     Neutral       0.00      0.00      0.00         0\n",
      "    Positive       1.00      0.96      0.98      6079\n",
      "\n",
      "    accuracy                           0.96      6148\n",
      "   macro avg       0.41      0.65      0.45      6148\n",
      "weighted avg       0.99      0.96      0.97      6148\n",
      "\n",
      "\n",
      " [[  68    0    1]\n",
      " [   0    0    0]\n",
      " [ 241   10 5828]]\n",
      "\n",
      " 0.9590110605074821\n"
     ]
    }
   ],
   "source": [
    "support_vector_machine=Accuracy(svctrain,y_train,svctest,y_test)\n",
    "support_vector_machine"
   ]
  },
  {
   "cell_type": "markdown",
   "id": "0d0194b1",
   "metadata": {},
   "source": [
    "### Adaboost "
   ]
  },
  {
   "cell_type": "code",
   "execution_count": 30,
   "id": "699bd8bc",
   "metadata": {},
   "outputs": [],
   "source": [
    "adabosst=AdaBoostClassifier()"
   ]
  },
  {
   "cell_type": "code",
   "execution_count": 31,
   "id": "dcc43018",
   "metadata": {},
   "outputs": [
    {
     "data": {
      "text/plain": [
       "AdaBoostClassifier()"
      ]
     },
     "execution_count": 31,
     "metadata": {},
     "output_type": "execute_result"
    }
   ],
   "source": [
    "adabosst.fit(X_train,y_train)"
   ]
  },
  {
   "cell_type": "code",
   "execution_count": 32,
   "id": "1e1d9688",
   "metadata": {},
   "outputs": [],
   "source": [
    "add_train=adabosst.predict(X_train)\n",
    "add_test=adabosst.predict(X_test)"
   ]
  },
  {
   "cell_type": "code",
   "execution_count": 33,
   "id": "9aa71fb3",
   "metadata": {},
   "outputs": [
    {
     "name": "stdout",
     "output_type": "stream",
     "text": [
      "Train Accuracy\n",
      "\n",
      "              precision    recall  f1-score   support\n",
      "\n",
      "    Negative       0.24      0.68      0.36       298\n",
      "     Neutral       0.94      1.00      0.97        15\n",
      "    Positive       0.99      0.96      0.97     14030\n",
      "\n",
      "    accuracy                           0.95     14343\n",
      "   macro avg       0.72      0.88      0.77     14343\n",
      "weighted avg       0.98      0.95      0.96     14343\n",
      "\n",
      "\n",
      " [[  202     0    96]\n",
      " [    0    15     0]\n",
      " [  629     1 13400]]\n",
      "\n",
      " 0.9493829742731646\n",
      "****************************************************************************************************\n",
      "Test Accuracy\n",
      "\n",
      "              precision    recall  f1-score   support\n",
      "\n",
      "    Negative       0.26      0.71      0.38       112\n",
      "     Neutral       0.00      0.00      0.00         1\n",
      "    Positive       0.99      0.96      0.98      6035\n",
      "\n",
      "    accuracy                           0.96      6148\n",
      "   macro avg       0.42      0.56      0.45      6148\n",
      "weighted avg       0.98      0.96      0.97      6148\n",
      "\n",
      "\n",
      " [[  79    0   33]\n",
      " [   0    0    1]\n",
      " [ 230   10 5795]]\n",
      "\n",
      " 0.9554326610279765\n"
     ]
    }
   ],
   "source": [
    "Adaboost_model=Accuracy(add_train,y_train,add_test,y_test)\n",
    "Adaboost_model"
   ]
  },
  {
   "cell_type": "markdown",
   "id": "f21e9529",
   "metadata": {},
   "source": [
    "## Naive bayes"
   ]
  },
  {
   "cell_type": "code",
   "execution_count": 34,
   "id": "f2e39d9d",
   "metadata": {},
   "outputs": [],
   "source": [
    "mb=MultinomialNB()"
   ]
  },
  {
   "cell_type": "code",
   "execution_count": 35,
   "id": "22de273c",
   "metadata": {},
   "outputs": [
    {
     "data": {
      "text/plain": [
       "MultinomialNB()"
      ]
     },
     "execution_count": 35,
     "metadata": {},
     "output_type": "execute_result"
    }
   ],
   "source": [
    "mb.fit(X_train,y_train)"
   ]
  },
  {
   "cell_type": "code",
   "execution_count": 36,
   "id": "f6217a19",
   "metadata": {},
   "outputs": [],
   "source": [
    "mb_train=adabosst.predict(X_train)\n",
    "mb_test=adabosst.predict(X_test)"
   ]
  },
  {
   "cell_type": "code",
   "execution_count": 37,
   "id": "373bafb0",
   "metadata": {},
   "outputs": [
    {
     "name": "stdout",
     "output_type": "stream",
     "text": [
      "Train Accuracy\n",
      "\n",
      "              precision    recall  f1-score   support\n",
      "\n",
      "    Negative       0.24      0.68      0.36       298\n",
      "     Neutral       0.94      1.00      0.97        15\n",
      "    Positive       0.99      0.96      0.97     14030\n",
      "\n",
      "    accuracy                           0.95     14343\n",
      "   macro avg       0.72      0.88      0.77     14343\n",
      "weighted avg       0.98      0.95      0.96     14343\n",
      "\n",
      "\n",
      " [[  202     0    96]\n",
      " [    0    15     0]\n",
      " [  629     1 13400]]\n",
      "\n",
      " 0.9493829742731646\n",
      "****************************************************************************************************\n",
      "Test Accuracy\n",
      "\n",
      "              precision    recall  f1-score   support\n",
      "\n",
      "    Negative       0.26      0.71      0.38       112\n",
      "     Neutral       0.00      0.00      0.00         1\n",
      "    Positive       0.99      0.96      0.98      6035\n",
      "\n",
      "    accuracy                           0.96      6148\n",
      "   macro avg       0.42      0.56      0.45      6148\n",
      "weighted avg       0.98      0.96      0.97      6148\n",
      "\n",
      "\n",
      " [[  79    0   33]\n",
      " [   0    0    1]\n",
      " [ 230   10 5795]]\n",
      "\n",
      " 0.9554326610279765\n"
     ]
    }
   ],
   "source": [
    "multinomial_model=Accuracy(mb_train,y_train,mb_test,y_test)\n",
    "multinomial_model"
   ]
  },
  {
   "cell_type": "raw",
   "id": "98600276",
   "metadata": {},
   "source": [
    "----Logistic is the final model as it is giving good accuracy than other models (with training accuracy 97 and testing accuracy 96)-----"
   ]
  },
  {
   "cell_type": "markdown",
   "id": "5ef20e2a",
   "metadata": {},
   "source": [
    "### Deployment"
   ]
  },
  {
   "cell_type": "code",
   "execution_count": 39,
   "id": "6548fb97",
   "metadata": {},
   "outputs": [],
   "source": [
    "# build the intelligence for tfid Vectorizer \n",
    "x=text['clean_review']\n",
    "y=text['sentiment_polarity']"
   ]
  },
  {
   "cell_type": "code",
   "execution_count": 52,
   "id": "f9d04763",
   "metadata": {},
   "outputs": [],
   "source": [
    "tfid_deploy=TfidfVectorizer()\n",
    "tfid_deploy=tfid.fit(x)"
   ]
  },
  {
   "cell_type": "code",
   "execution_count": 53,
   "id": "aa0aa876",
   "metadata": {},
   "outputs": [],
   "source": [
    "# converting text into numeric for svm\n",
    "x_train=tfid_deploy.transform(x)"
   ]
  },
  {
   "cell_type": "code",
   "execution_count": 54,
   "id": "692281ef",
   "metadata": {},
   "outputs": [
    {
     "data": {
      "text/plain": [
       "LogisticRegression()"
      ]
     },
     "execution_count": 54,
     "metadata": {},
     "output_type": "execute_result"
    }
   ],
   "source": [
    "logistic_model_deploy=LogisticRegression()\n",
    "logistic_model_deploy.fit(x_train,y)"
   ]
  },
  {
   "cell_type": "code",
   "execution_count": 55,
   "id": "423bd91e",
   "metadata": {},
   "outputs": [],
   "source": [
    "#saving svm n tfid into pkl\n",
    "dump(obj=logistic_model_deploy,file=open('logistic_model_deploy.pkl','wb'))\n",
    "dump(obj=tfid_deploy,file=open('tfid_deploy.pkl','wb'))"
   ]
  },
  {
   "cell_type": "code",
   "execution_count": null,
   "id": "1436f2a5",
   "metadata": {},
   "outputs": [],
   "source": []
  },
  {
   "cell_type": "code",
   "execution_count": null,
   "id": "0466f660",
   "metadata": {},
   "outputs": [],
   "source": []
  },
  {
   "cell_type": "code",
   "execution_count": null,
   "id": "938f11b8",
   "metadata": {},
   "outputs": [],
   "source": []
  },
  {
   "cell_type": "code",
   "execution_count": null,
   "id": "10fc2eba",
   "metadata": {},
   "outputs": [],
   "source": []
  },
  {
   "cell_type": "code",
   "execution_count": null,
   "id": "96fbba9e",
   "metadata": {},
   "outputs": [],
   "source": []
  },
  {
   "cell_type": "code",
   "execution_count": null,
   "id": "3ebb1c48",
   "metadata": {},
   "outputs": [],
   "source": []
  },
  {
   "cell_type": "code",
   "execution_count": null,
   "id": "87701864",
   "metadata": {},
   "outputs": [],
   "source": []
  },
  {
   "cell_type": "code",
   "execution_count": null,
   "id": "3abc70a6",
   "metadata": {},
   "outputs": [],
   "source": []
  },
  {
   "cell_type": "code",
   "execution_count": null,
   "id": "cac84996",
   "metadata": {},
   "outputs": [],
   "source": []
  },
  {
   "cell_type": "code",
   "execution_count": null,
   "id": "83bcbc8a",
   "metadata": {},
   "outputs": [],
   "source": []
  },
  {
   "cell_type": "code",
   "execution_count": null,
   "id": "6527427f",
   "metadata": {},
   "outputs": [],
   "source": []
  },
  {
   "cell_type": "code",
   "execution_count": null,
   "id": "e4f37dc1",
   "metadata": {},
   "outputs": [],
   "source": []
  },
  {
   "cell_type": "code",
   "execution_count": null,
   "id": "a019c065",
   "metadata": {},
   "outputs": [],
   "source": []
  },
  {
   "cell_type": "code",
   "execution_count": null,
   "id": "93861fb6",
   "metadata": {},
   "outputs": [],
   "source": []
  }
 ],
 "metadata": {
  "kernelspec": {
   "display_name": "Python 3 (ipykernel)",
   "language": "python",
   "name": "python3"
  },
  "language_info": {
   "codemirror_mode": {
    "name": "ipython",
    "version": 3
   },
   "file_extension": ".py",
   "mimetype": "text/x-python",
   "name": "python",
   "nbconvert_exporter": "python",
   "pygments_lexer": "ipython3",
   "version": "3.9.13"
  }
 },
 "nbformat": 4,
 "nbformat_minor": 5
}
