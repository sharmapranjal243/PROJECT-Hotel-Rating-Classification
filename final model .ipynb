{
 "cells": [
  {
   "cell_type": "code",
   "execution_count": 41,
   "id": "375dc169",
   "metadata": {},
   "outputs": [],
   "source": [
    "from sklearn.linear_model import LogisticRegression\n",
    "import pandas as pd\n",
    "from sklearn.metrics import accuracy_score,classification_report,confusion_matrix\n",
    "from sklearn.feature_extraction.text import CountVectorizer,TfidfVectorizer\n",
    "from sklearn.model_selection import train_test_split\n",
    "from pickle import dump\n",
    "import warnings\n",
    "warnings.filterwarnings('ignore')"
   ]
  },
  {
   "cell_type": "code",
   "execution_count": 4,
   "id": "01dc467d",
   "metadata": {},
   "outputs": [
    {
     "data": {
      "text/html": [
       "<div>\n",
       "<style scoped>\n",
       "    .dataframe tbody tr th:only-of-type {\n",
       "        vertical-align: middle;\n",
       "    }\n",
       "\n",
       "    .dataframe tbody tr th {\n",
       "        vertical-align: top;\n",
       "    }\n",
       "\n",
       "    .dataframe thead th {\n",
       "        text-align: right;\n",
       "    }\n",
       "</style>\n",
       "<table border=\"1\" class=\"dataframe\">\n",
       "  <thead>\n",
       "    <tr style=\"text-align: right;\">\n",
       "      <th></th>\n",
       "      <th>Review</th>\n",
       "      <th>Rating</th>\n",
       "      <th>rating_analysis</th>\n",
       "      <th>clean_review</th>\n",
       "      <th>Lemmitize_review</th>\n",
       "      <th>subjectivity</th>\n",
       "      <th>polarity</th>\n",
       "      <th>sentiment_polarity</th>\n",
       "      <th>no_of_char</th>\n",
       "      <th>no_of_words</th>\n",
       "    </tr>\n",
       "  </thead>\n",
       "  <tbody>\n",
       "    <tr>\n",
       "      <th>0</th>\n",
       "      <td>nice hotel expensive parking got good deal sta...</td>\n",
       "      <td>4</td>\n",
       "      <td>Positive</td>\n",
       "      <td>nice hotel expensive parking got good deal sta...</td>\n",
       "      <td>nice hotel expensive parking get good deal sta...</td>\n",
       "      <td>0.678095</td>\n",
       "      <td>0.198804</td>\n",
       "      <td>Positive</td>\n",
       "      <td>521</td>\n",
       "      <td>80</td>\n",
       "    </tr>\n",
       "    <tr>\n",
       "      <th>1</th>\n",
       "      <td>ok nothing special charge diamond member hilto...</td>\n",
       "      <td>2</td>\n",
       "      <td>Negative</td>\n",
       "      <td>ok nothing special charge diamond member hilto...</td>\n",
       "      <td>ok nothing special charge diamond member hilto...</td>\n",
       "      <td>0.539858</td>\n",
       "      <td>0.248550</td>\n",
       "      <td>Positive</td>\n",
       "      <td>1521</td>\n",
       "      <td>228</td>\n",
       "    </tr>\n",
       "    <tr>\n",
       "      <th>2</th>\n",
       "      <td>nice rooms not 4* experience hotel monaco seat...</td>\n",
       "      <td>3</td>\n",
       "      <td>Neutral</td>\n",
       "      <td>nice rooms experience hotel monaco seattle goo...</td>\n",
       "      <td>nice room experience hotel monaco seattle good...</td>\n",
       "      <td>0.591954</td>\n",
       "      <td>0.321429</td>\n",
       "      <td>Positive</td>\n",
       "      <td>1257</td>\n",
       "      <td>189</td>\n",
       "    </tr>\n",
       "    <tr>\n",
       "      <th>3</th>\n",
       "      <td>unique, great stay, wonderful time hotel monac...</td>\n",
       "      <td>5</td>\n",
       "      <td>Positive</td>\n",
       "      <td>unique great stay wonderful time hotel monaco ...</td>\n",
       "      <td>unique great stay wonderful time hotel monaco ...</td>\n",
       "      <td>0.691228</td>\n",
       "      <td>0.504825</td>\n",
       "      <td>Positive</td>\n",
       "      <td>538</td>\n",
       "      <td>83</td>\n",
       "    </tr>\n",
       "    <tr>\n",
       "      <th>4</th>\n",
       "      <td>great stay great stay, went seahawk game aweso...</td>\n",
       "      <td>5</td>\n",
       "      <td>Positive</td>\n",
       "      <td>great stay great stay went seahawk game awesom...</td>\n",
       "      <td>great stay great stay go seahawk game awesome ...</td>\n",
       "      <td>0.637088</td>\n",
       "      <td>0.467308</td>\n",
       "      <td>Positive</td>\n",
       "      <td>1091</td>\n",
       "      <td>172</td>\n",
       "    </tr>\n",
       "  </tbody>\n",
       "</table>\n",
       "</div>"
      ],
      "text/plain": [
       "                                              Review  Rating rating_analysis  \\\n",
       "0  nice hotel expensive parking got good deal sta...       4        Positive   \n",
       "1  ok nothing special charge diamond member hilto...       2        Negative   \n",
       "2  nice rooms not 4* experience hotel monaco seat...       3         Neutral   \n",
       "3  unique, great stay, wonderful time hotel monac...       5        Positive   \n",
       "4  great stay great stay, went seahawk game aweso...       5        Positive   \n",
       "\n",
       "                                        clean_review  \\\n",
       "0  nice hotel expensive parking got good deal sta...   \n",
       "1  ok nothing special charge diamond member hilto...   \n",
       "2  nice rooms experience hotel monaco seattle goo...   \n",
       "3  unique great stay wonderful time hotel monaco ...   \n",
       "4  great stay great stay went seahawk game awesom...   \n",
       "\n",
       "                                    Lemmitize_review  subjectivity  polarity  \\\n",
       "0  nice hotel expensive parking get good deal sta...      0.678095  0.198804   \n",
       "1  ok nothing special charge diamond member hilto...      0.539858  0.248550   \n",
       "2  nice room experience hotel monaco seattle good...      0.591954  0.321429   \n",
       "3  unique great stay wonderful time hotel monaco ...      0.691228  0.504825   \n",
       "4  great stay great stay go seahawk game awesome ...      0.637088  0.467308   \n",
       "\n",
       "  sentiment_polarity  no_of_char  no_of_words  \n",
       "0           Positive         521           80  \n",
       "1           Positive        1521          228  \n",
       "2           Positive        1257          189  \n",
       "3           Positive         538           83  \n",
       "4           Positive        1091          172  "
      ]
     },
     "execution_count": 4,
     "metadata": {},
     "output_type": "execute_result"
    }
   ],
   "source": [
    "data=pd.read_csv('text.csv',index_col=[0])\n",
    "data.head()"
   ]
  },
  {
   "cell_type": "markdown",
   "id": "7ee5c68f",
   "metadata": {},
   "source": [
    "### TF-ID Vectorizer"
   ]
  },
  {
   "cell_type": "code",
   "execution_count": 11,
   "id": "9b82f56e",
   "metadata": {},
   "outputs": [],
   "source": [
    "count=TfidfVectorizer()\n",
    "x_train_df=count.fit(data['clean_review'])"
   ]
  },
  {
   "cell_type": "code",
   "execution_count": 12,
   "id": "d5461aad",
   "metadata": {},
   "outputs": [],
   "source": [
    "x_train=x_train_df.transform(data['clean_review'])"
   ]
  },
  {
   "cell_type": "code",
   "execution_count": 15,
   "id": "a6386057",
   "metadata": {},
   "outputs": [],
   "source": [
    "X_train,X_test,y_train,y_test=train_test_split(x_train,data['sentiment_polarity'],shuffle=True,random_state=30,test_size=0.3)"
   ]
  },
  {
   "cell_type": "code",
   "execution_count": 18,
   "id": "72020673",
   "metadata": {},
   "outputs": [
    {
     "name": "stdout",
     "output_type": "stream",
     "text": [
      "(14343, 75052) (6148, 75052) (14343,) (6148,)\n"
     ]
    }
   ],
   "source": [
    "print(X_train.shape,X_test.shape,y_train.shape,y_test.shape)"
   ]
  },
  {
   "cell_type": "code",
   "execution_count": 24,
   "id": "e6e26c5c",
   "metadata": {},
   "outputs": [],
   "source": [
    "def Accuracy(y_train,y_train_pred,y_test,y_test_pred):\n",
    "    print('Train Accuracy\\n')\n",
    "    print(classification_report(y_train,y_train_pred))\n",
    "    print('\\n',confusion_matrix(y_train,y_train_pred))\n",
    "    print('\\n',accuracy_score(y_train,y_train_pred))\n",
    "    print('*'*100)\n",
    "    print('Test Accuracy\\n')\n",
    "    print(classification_report(y_test,y_test_pred))\n",
    "    print('\\n',confusion_matrix(y_test,y_test_pred))\n",
    "    print('\\n',accuracy_score(y_test,y_test_pred)) "
   ]
  },
  {
   "cell_type": "code",
   "execution_count": 20,
   "id": "6317e52d",
   "metadata": {},
   "outputs": [],
   "source": [
    "## Final model "
   ]
  },
  {
   "cell_type": "code",
   "execution_count": 19,
   "id": "7a1a3ea4",
   "metadata": {},
   "outputs": [],
   "source": [
    "log=LogisticRegression()"
   ]
  },
  {
   "cell_type": "code",
   "execution_count": 21,
   "id": "7a07fd2f",
   "metadata": {},
   "outputs": [
    {
     "data": {
      "text/plain": [
       "LogisticRegression()"
      ]
     },
     "execution_count": 21,
     "metadata": {},
     "output_type": "execute_result"
    }
   ],
   "source": [
    "log.fit(X_train,y_train)"
   ]
  },
  {
   "cell_type": "code",
   "execution_count": 22,
   "id": "1f9aeb56",
   "metadata": {},
   "outputs": [],
   "source": [
    "log_train=log.predict(X_train)\n",
    "log_test=log.predict(X_test)"
   ]
  },
  {
   "cell_type": "code",
   "execution_count": 42,
   "id": "d40e745f",
   "metadata": {},
   "outputs": [
    {
     "name": "stdout",
     "output_type": "stream",
     "text": [
      "Train Accuracy\n",
      "\n",
      "              precision    recall  f1-score   support\n",
      "\n",
      "    Negative       0.59      1.00      0.74       492\n",
      "     Neutral       0.00      0.00      0.00         0\n",
      "    Positive       1.00      0.97      0.99     13851\n",
      "\n",
      "    accuracy                           0.97     14343\n",
      "   macro avg       0.53      0.66      0.58     14343\n",
      "weighted avg       0.99      0.97      0.98     14343\n",
      "\n",
      "\n",
      " [[  490     0     2]\n",
      " [    0     0     0]\n",
      " [  341    16 13494]]\n",
      "\n",
      " 0.9749703688210277\n",
      "****************************************************************************************************\n",
      "Test Accuracy\n",
      "\n",
      "              precision    recall  f1-score   support\n",
      "\n",
      "    Negative       0.34      0.97      0.50       108\n",
      "     Neutral       0.00      0.00      0.00         0\n",
      "    Positive       1.00      0.96      0.98      6040\n",
      "\n",
      "    accuracy                           0.96      6148\n",
      "   macro avg       0.45      0.65      0.50      6148\n",
      "weighted avg       0.99      0.96      0.97      6148\n",
      "\n",
      "\n",
      " [[ 105    0    3]\n",
      " [   0    0    0]\n",
      " [ 204   10 5826]]\n",
      "\n",
      " 0.9647039687703318\n"
     ]
    }
   ],
   "source": [
    "logistic_model=Accuracy(log_train,y_train,log_test,y_test)\n",
    "logistic_model"
   ]
  },
  {
   "cell_type": "code",
   "execution_count": null,
   "id": "9d2790af",
   "metadata": {},
   "outputs": [],
   "source": [
    "# deployment "
   ]
  },
  {
   "cell_type": "code",
   "execution_count": 32,
   "id": "1ee667bc",
   "metadata": {},
   "outputs": [],
   "source": [
    "# build the intelligence for tfid Vectorizer \n",
    "x=data['clean_review']\n",
    "y=data['sentiment_polarity']"
   ]
  },
  {
   "cell_type": "code",
   "execution_count": 36,
   "id": "fd32b90a",
   "metadata": {},
   "outputs": [],
   "source": [
    "tfid_deploy=TfidfVectorizer()\n",
    "tfid_deploy=tfid.fit(x)"
   ]
  },
  {
   "cell_type": "code",
   "execution_count": 37,
   "id": "a368ed8f",
   "metadata": {},
   "outputs": [],
   "source": [
    "# converting text into numeric for svm\n",
    "x_train=tfid_deploy.transform(x)"
   ]
  },
  {
   "cell_type": "code",
   "execution_count": 38,
   "id": "e7bb7255",
   "metadata": {},
   "outputs": [
    {
     "data": {
      "text/plain": [
       "LogisticRegression()"
      ]
     },
     "execution_count": 38,
     "metadata": {},
     "output_type": "execute_result"
    }
   ],
   "source": [
    "logistic_model_deploy=LogisticRegression()\n",
    "logistic_model_deploy.fit(x_train,y)"
   ]
  },
  {
   "cell_type": "code",
   "execution_count": 40,
   "id": "8903953d",
   "metadata": {},
   "outputs": [],
   "source": [
    "#saving svm n tfid into pkl\n",
    "dump(obj=logistic_model_deploy,file=open('logistic_model_deploy.pkl','wb'))\n",
    "dump(obj=tfid_deploy,file=open('tfid_deploy.pkl','wb'))"
   ]
  },
  {
   "cell_type": "code",
   "execution_count": null,
   "id": "305b6510",
   "metadata": {},
   "outputs": [],
   "source": []
  }
 ],
 "metadata": {
  "kernelspec": {
   "display_name": "Python 3 (ipykernel)",
   "language": "python",
   "name": "python3"
  },
  "language_info": {
   "codemirror_mode": {
    "name": "ipython",
    "version": 3
   },
   "file_extension": ".py",
   "mimetype": "text/x-python",
   "name": "python",
   "nbconvert_exporter": "python",
   "pygments_lexer": "ipython3",
   "version": "3.9.13"
  }
 },
 "nbformat": 4,
 "nbformat_minor": 5
}
